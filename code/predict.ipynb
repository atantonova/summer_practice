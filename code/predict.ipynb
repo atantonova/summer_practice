{
  "nbformat": 4,
  "nbformat_minor": 0,
  "metadata": {
    "colab": {
      "name": "predict.ipynb",
      "provenance": [],
      "collapsed_sections": []
    },
    "kernelspec": {
      "name": "python3",
      "display_name": "Python 3"
    },
    "language_info": {
      "name": "python"
    }
  },
  "cells": [
    {
      "cell_type": "code",
      "metadata": {
        "colab": {
          "base_uri": "https://localhost:8080/"
        },
        "id": "6qK6QoOqSB9R",
        "outputId": "c30c1c6b-6971-48a2-89bd-a967173c5832"
      },
      "source": [
        "!pip3 install transformers \n",
        "\n",
        "import pandas as pd\n",
        "import numpy as np\n",
        "from transformers import BertTokenizerFast, BertForSequenceClassification, AutoTokenizer, AutoModelForSequenceClassification\n",
        "from transformers import Trainer, TrainingArguments"
      ],
      "execution_count": 1,
      "outputs": [
        {
          "output_type": "stream",
          "text": [
            "Requirement already satisfied: transformers in /usr/local/lib/python3.7/dist-packages (4.8.2)\n",
            "Requirement already satisfied: filelock in /usr/local/lib/python3.7/dist-packages (from transformers) (3.0.12)\n",
            "Requirement already satisfied: sacremoses in /usr/local/lib/python3.7/dist-packages (from transformers) (0.0.45)\n",
            "Requirement already satisfied: packaging in /usr/local/lib/python3.7/dist-packages (from transformers) (20.9)\n",
            "Requirement already satisfied: numpy>=1.17 in /usr/local/lib/python3.7/dist-packages (from transformers) (1.19.5)\n",
            "Requirement already satisfied: tokenizers<0.11,>=0.10.1 in /usr/local/lib/python3.7/dist-packages (from transformers) (0.10.3)\n",
            "Requirement already satisfied: importlib-metadata; python_version < \"3.8\" in /usr/local/lib/python3.7/dist-packages (from transformers) (4.6.0)\n",
            "Requirement already satisfied: tqdm>=4.27 in /usr/local/lib/python3.7/dist-packages (from transformers) (4.41.1)\n",
            "Requirement already satisfied: pyyaml in /usr/local/lib/python3.7/dist-packages (from transformers) (3.13)\n",
            "Requirement already satisfied: huggingface-hub==0.0.12 in /usr/local/lib/python3.7/dist-packages (from transformers) (0.0.12)\n",
            "Requirement already satisfied: requests in /usr/local/lib/python3.7/dist-packages (from transformers) (2.23.0)\n",
            "Requirement already satisfied: regex!=2019.12.17 in /usr/local/lib/python3.7/dist-packages (from transformers) (2019.12.20)\n",
            "Requirement already satisfied: six in /usr/local/lib/python3.7/dist-packages (from sacremoses->transformers) (1.15.0)\n",
            "Requirement already satisfied: click in /usr/local/lib/python3.7/dist-packages (from sacremoses->transformers) (7.1.2)\n",
            "Requirement already satisfied: joblib in /usr/local/lib/python3.7/dist-packages (from sacremoses->transformers) (1.0.1)\n",
            "Requirement already satisfied: pyparsing>=2.0.2 in /usr/local/lib/python3.7/dist-packages (from packaging->transformers) (2.4.7)\n",
            "Requirement already satisfied: typing-extensions>=3.6.4; python_version < \"3.8\" in /usr/local/lib/python3.7/dist-packages (from importlib-metadata; python_version < \"3.8\"->transformers) (3.7.4.3)\n",
            "Requirement already satisfied: zipp>=0.5 in /usr/local/lib/python3.7/dist-packages (from importlib-metadata; python_version < \"3.8\"->transformers) (3.4.1)\n",
            "Requirement already satisfied: idna<3,>=2.5 in /usr/local/lib/python3.7/dist-packages (from requests->transformers) (2.10)\n",
            "Requirement already satisfied: urllib3!=1.25.0,!=1.25.1,<1.26,>=1.21.1 in /usr/local/lib/python3.7/dist-packages (from requests->transformers) (1.24.3)\n",
            "Requirement already satisfied: chardet<4,>=3.0.2 in /usr/local/lib/python3.7/dist-packages (from requests->transformers) (3.0.4)\n",
            "Requirement already satisfied: certifi>=2017.4.17 in /usr/local/lib/python3.7/dist-packages (from requests->transformers) (2021.5.30)\n"
          ],
          "name": "stdout"
        }
      ]
    },
    {
      "cell_type": "code",
      "metadata": {
        "id": "KB7zq-_QnnPm"
      },
      "source": [
        "import torch\n",
        "\n",
        "class BertDataset(torch.utils.data.Dataset):   \n",
        "    def __init__(self, encodings, labels=None):          \n",
        "        self.encodings = encodings        \n",
        "        self.labels = labels\n",
        "     \n",
        "    def __getitem__(self, idx):\n",
        "        item = {key: torch.tensor(val[idx]) for key, val in self.encodings.items()}\n",
        "        if self.labels:\n",
        "            item[\"labels\"] = torch.tensor(self.labels[idx])\n",
        "        return item\n",
        "    \n",
        "    def __len__(self):\n",
        "        return len(self.encodings[\"input_ids\"])"
      ],
      "execution_count": 37,
      "outputs": []
    },
    {
      "cell_type": "code",
      "metadata": {
        "id": "L9adg8cNScLe"
      },
      "source": [
        "from scipy.special import softmax\n",
        "\n",
        "def load_model_tokenizer(path_to_model, path_to_tokenizer):\n",
        "\n",
        "    model = BertForSequenceClassification.from_pretrained(path_to_model)\n",
        "    tokenizer = BertTokenizerFast.from_pretrained(path_to_tokenizer)\n",
        "\n",
        "    tokenizer_sent = AutoTokenizer.from_pretrained(\"ProsusAI/finbert\")\n",
        "    model_sent = AutoModelForSequenceClassification.from_pretrained(\"ProsusAI/finbert\")\n",
        "\n",
        "    return model, tokenizer, model_sent, tokenizer_sent\n",
        "\n",
        "\n",
        "def predict_classification(test_data, model, tokenizer):\n",
        "    '''\n",
        "    test_trainer: Trainer - best model for predictions\n",
        "    test_data: DataFrame - columns: 'text'\n",
        "\n",
        "    returns\n",
        "    y_pred: list - predictions\n",
        "    '''\n",
        "    tokenized = tokenizer(test_data['text'].tolist(), padding=True, truncation=True, max_length=512)\n",
        "    test_trainer = Trainer(model) \n",
        "    raw_pred, _, _ = test_trainer.predict(BertDataset(tokenized, None)) \n",
        "    predictions = softmax(raw_pred)\n",
        "    return predictions\n",
        "\n",
        "\n",
        "def predict_with_sentiment(dataset, classifier, tokenizer_classifier, sentiment_model, sentiment_tokenizer, decoded_predictions=True):\n",
        "    '''\n",
        "    dataset: DataFrame - columns: 'text', 'finance'; train+validation\n",
        "    model: trained BERT best model\n",
        "    tokenizer: tokenizer used in training\n",
        "\n",
        "    returns:\n",
        "    predictions: DataFrame - \n",
        "    columns: \n",
        "        text \n",
        "        finance - probability of classification\n",
        "        positive - probability of positive sentiment\n",
        "        neutral - -//-\n",
        "        negative - -//-\n",
        "    '''\n",
        "    \n",
        "    classification_pred = predict_classification(dataset, classifier, tokenizer_classifier)\n",
        "    \n",
        "    tokenized = sentiment_tokenizer(dataset['text'].tolist(), padding=True, truncation=True, max_length=512)\n",
        "    \n",
        "    trainer = Trainer(sentiment_model)\n",
        "    raw_pred, _, _ = trainer.predict(BertDataset(tokenized, None))\n",
        "    sentiment_pred = softmax(raw_pred)\n",
        "\n",
        "    # understand sentiment outputs\n",
        "\n",
        "    results = pd.DataFrame(columns=['text', 'finance', 'positive', 'neutral', 'negative'])\n",
        "    results['text'] = dataset['text']\n",
        "    # results['finance'] = classification_pred[:, 1]\n",
        "\n",
        "    return results, classification_pred, sentiment_pred"
      ],
      "execution_count": 43,
      "outputs": []
    },
    {
      "cell_type": "code",
      "metadata": {
        "id": "rI6xp4IqZvUz"
      },
      "source": [
        "classifier, tokenizer_classifier, model_sent, tokenizer_sent = load_model_tokenizer('/content/drive/MyDrive/Colab Notebooks/data/message_classification/results/checkpoint-700', 'bert-base-uncased')"
      ],
      "execution_count": 6,
      "outputs": []
    },
    {
      "cell_type": "code",
      "metadata": {
        "id": "d-NgDmgSTdrf"
      },
      "source": [
        "test_data = pd.read_csv('/content/drive/MyDrive/Colab Notebooks/data/message_classification/tiny_test_data.csv')\n",
        "# test_data = test_data.sample(frac=1)"
      ],
      "execution_count": 86,
      "outputs": []
    },
    {
      "cell_type": "code",
      "metadata": {
        "id": "cE7hR-1Zw_Zk"
      },
      "source": [
        "# test_data_batch = test_data.sample(n=100)\n",
        "test_data_batch = test_data"
      ],
      "execution_count": 87,
      "outputs": []
    },
    {
      "cell_type": "code",
      "metadata": {
        "id": "TJ_6PdKoU4PV",
        "colab": {
          "base_uri": "https://localhost:8080/",
          "height": 278
        },
        "outputId": "9da48be9-4c64-42b5-b929-67d1dad1a6ae"
      },
      "source": [
        "results, classification_pred, sentiment_pred = predict_with_sentiment(test_data_batch, classifier, tokenizer_classifier, model_sent, tokenizer_sent)"
      ],
      "execution_count": 88,
      "outputs": [
        {
          "output_type": "stream",
          "text": [
            "No `TrainingArguments` passed, using `output_dir=tmp_trainer`.\n",
            "PyTorch: setting up devices\n",
            "The default value for the training argument `--report_to` will change in v5 (from all installed integrations to none). In v5, you will need to use `--report_to all` to get the same behavior as now. You should start updating your code and make this info disappear :-).\n",
            "***** Running Prediction *****\n",
            "  Num examples = 4\n",
            "  Batch size = 8\n"
          ],
          "name": "stderr"
        },
        {
          "output_type": "display_data",
          "data": {
            "text/html": [
              "\n",
              "    <div>\n",
              "      \n",
              "      <progress value='1' max='1' style='width:300px; height:20px; vertical-align: middle;'></progress>\n",
              "      [1/1 : < :]\n",
              "    </div>\n",
              "    "
            ],
            "text/plain": [
              "<IPython.core.display.HTML object>"
            ]
          },
          "metadata": {
            "tags": []
          }
        },
        {
          "output_type": "stream",
          "text": [
            "No `TrainingArguments` passed, using `output_dir=tmp_trainer`.\n",
            "PyTorch: setting up devices\n",
            "The default value for the training argument `--report_to` will change in v5 (from all installed integrations to none). In v5, you will need to use `--report_to all` to get the same behavior as now. You should start updating your code and make this info disappear :-).\n",
            "***** Running Prediction *****\n",
            "  Num examples = 4\n",
            "  Batch size = 8\n"
          ],
          "name": "stderr"
        },
        {
          "output_type": "display_data",
          "data": {
            "text/html": [
              "\n",
              "    <div>\n",
              "      \n",
              "      <progress value='1' max='1' style='width:300px; height:20px; vertical-align: middle;'></progress>\n",
              "      [1/1 : < :]\n",
              "    </div>\n",
              "    "
            ],
            "text/plain": [
              "<IPython.core.display.HTML object>"
            ]
          },
          "metadata": {
            "tags": []
          }
        }
      ]
    },
    {
      "cell_type": "code",
      "metadata": {
        "colab": {
          "base_uri": "https://localhost:8080/"
        },
        "id": "xfaGFfFnYm-I",
        "outputId": "7c45dcbe-850c-4880-aeeb-462b5a3bdecd"
      },
      "source": [
        "classification_pred"
      ],
      "execution_count": 89,
      "outputs": [
        {
          "output_type": "execute_result",
          "data": {
            "text/plain": [
              "array([[3.1994109e-04, 1.7064339e-01],\n",
              "       [1.6339759e-04, 3.9258066e-01],\n",
              "       [2.3938485e-03, 1.3213388e-02],\n",
              "       [4.2058048e-01, 1.0506948e-04]], dtype=float32)"
            ]
          },
          "metadata": {
            "tags": []
          },
          "execution_count": 89
        }
      ]
    },
    {
      "cell_type": "code",
      "metadata": {
        "id": "NgXZrVO8UQem"
      },
      "source": [
        "y_pred = np.argmax(classification_pred, axis=1)"
      ],
      "execution_count": 90,
      "outputs": []
    },
    {
      "cell_type": "code",
      "metadata": {
        "id": "KnZy8ehLUqQh"
      },
      "source": [
        "y_test = test_data_batch['finance'].map(int)"
      ],
      "execution_count": 91,
      "outputs": []
    },
    {
      "cell_type": "code",
      "metadata": {
        "colab": {
          "base_uri": "https://localhost:8080/"
        },
        "id": "TxbmbOWVKoxA",
        "outputId": "07a4a419-5292-43a2-b051-91a448edafc7"
      },
      "source": [
        "y_pred"
      ],
      "execution_count": 92,
      "outputs": [
        {
          "output_type": "execute_result",
          "data": {
            "text/plain": [
              "array([1, 1, 1, 0])"
            ]
          },
          "metadata": {
            "tags": []
          },
          "execution_count": 92
        }
      ]
    },
    {
      "cell_type": "code",
      "metadata": {
        "colab": {
          "base_uri": "https://localhost:8080/"
        },
        "id": "5I0ayMELUw2D",
        "outputId": "e5675891-434f-406f-d336-2428fda3114c"
      },
      "source": [
        "from sklearn.metrics import classification_report\n",
        "\n",
        "print(classification_report(y_pred=y_pred, y_true=y_test))"
      ],
      "execution_count": 93,
      "outputs": [
        {
          "output_type": "stream",
          "text": [
            "              precision    recall  f1-score   support\n",
            "\n",
            "           0       1.00      0.50      0.67         2\n",
            "           1       0.67      1.00      0.80         2\n",
            "\n",
            "    accuracy                           0.75         4\n",
            "   macro avg       0.83      0.75      0.73         4\n",
            "weighted avg       0.83      0.75      0.73         4\n",
            "\n"
          ],
          "name": "stdout"
        }
      ]
    },
    {
      "cell_type": "code",
      "metadata": {
        "colab": {
          "base_uri": "https://localhost:8080/"
        },
        "id": "6KUesjxpYqpf",
        "outputId": "54efd8a1-0e68-45ed-8408-981a231a0426"
      },
      "source": [
        "sentiment_pred"
      ],
      "execution_count": 94,
      "outputs": [
        {
          "output_type": "execute_result",
          "data": {
            "text/plain": [
              "array([[0.01307078, 0.0396    , 0.09352222],\n",
              "       [0.02233841, 0.00364368, 0.27937737],\n",
              "       [0.02086242, 0.0071566 , 0.24362586],\n",
              "       [0.00836449, 0.02399694, 0.24444129]], dtype=float32)"
            ]
          },
          "metadata": {
            "tags": []
          },
          "execution_count": 94
        }
      ]
    },
    {
      "cell_type": "code",
      "metadata": {
        "colab": {
          "base_uri": "https://localhost:8080/",
          "height": 984
        },
        "id": "V9Pz_RhbUHVV",
        "outputId": "3548fa9a-0a77-4552-d1e8-5684d0bc6c6c"
      },
      "source": [
        "test_data_batch"
      ],
      "execution_count": 54,
      "outputs": [
        {
          "output_type": "execute_result",
          "data": {
            "text/html": [
              "<div>\n",
              "<style scoped>\n",
              "    .dataframe tbody tr th:only-of-type {\n",
              "        vertical-align: middle;\n",
              "    }\n",
              "\n",
              "    .dataframe tbody tr th {\n",
              "        vertical-align: top;\n",
              "    }\n",
              "\n",
              "    .dataframe thead th {\n",
              "        text-align: right;\n",
              "    }\n",
              "</style>\n",
              "<table border=\"1\" class=\"dataframe\">\n",
              "  <thead>\n",
              "    <tr style=\"text-align: right;\">\n",
              "      <th></th>\n",
              "      <th>Unnamed: 0</th>\n",
              "      <th>text</th>\n",
              "      <th>finance</th>\n",
              "    </tr>\n",
              "  </thead>\n",
              "  <tbody>\n",
              "    <tr>\n",
              "      <th>4371</th>\n",
              "      <td>4371</td>\n",
              "      <td>border guard service has banned the mooring of...</td>\n",
              "      <td>1</td>\n",
              "    </tr>\n",
              "    <tr>\n",
              "      <th>5936</th>\n",
              "      <td>5936</td>\n",
              "      <td>they have always been bjp supporters tharoor r...</td>\n",
              "      <td>0</td>\n",
              "    </tr>\n",
              "    <tr>\n",
              "      <th>460</th>\n",
              "      <td>460</td>\n",
              "      <td>to be number one means creating added value fo...</td>\n",
              "      <td>1</td>\n",
              "    </tr>\n",
              "    <tr>\n",
              "      <th>5474</th>\n",
              "      <td>5474</td>\n",
              "      <td>obvious that they won answer some questions l...</td>\n",
              "      <td>0</td>\n",
              "    </tr>\n",
              "    <tr>\n",
              "      <th>2621</th>\n",
              "      <td>2621</td>\n",
              "      <td>the deal is subject to approval by the norwegi...</td>\n",
              "      <td>1</td>\n",
              "    </tr>\n",
              "    <tr>\n",
              "      <th>9587</th>\n",
              "      <td>9587</td>\n",
              "      <td>modi finally talks about ambani adani and kejr...</td>\n",
              "      <td>0</td>\n",
              "    </tr>\n",
              "    <tr>\n",
              "      <th>7609</th>\n",
              "      <td>7609</td>\n",
              "      <td>better then our australian space program which...</td>\n",
              "      <td>0</td>\n",
              "    </tr>\n",
              "    <tr>\n",
              "      <th>8844</th>\n",
              "      <td>8844</td>\n",
              "      <td>regret using all vacation wait getting hit ca...</td>\n",
              "      <td>0</td>\n",
              "    </tr>\n",
              "    <tr>\n",
              "      <th>264</th>\n",
              "      <td>264</td>\n",
              "      <td>press release october ruukki has signed a cont...</td>\n",
              "      <td>1</td>\n",
              "    </tr>\n",
              "    <tr>\n",
              "      <th>3016</th>\n",
              "      <td>3016</td>\n",
              "      <td>adp news nov finnish paper packaging and fore...</td>\n",
              "      <td>1</td>\n",
              "    </tr>\n",
              "    <tr>\n",
              "      <th>1335</th>\n",
              "      <td>1335</td>\n",
              "      <td>she will succeed krister kylas who has decided...</td>\n",
              "      <td>1</td>\n",
              "    </tr>\n",
              "    <tr>\n",
              "      <th>2674</th>\n",
              "      <td>2674</td>\n",
              "      <td>the restructuring measures will not affect the...</td>\n",
              "      <td>1</td>\n",
              "    </tr>\n",
              "    <tr>\n",
              "      <th>2769</th>\n",
              "      <td>2769</td>\n",
              "      <td>additionally the company will use the solution...</td>\n",
              "      <td>1</td>\n",
              "    </tr>\n",
              "    <tr>\n",
              "      <th>4585</th>\n",
              "      <td>4585</td>\n",
              "      <td>operating profit for the threemonth period dec...</td>\n",
              "      <td>1</td>\n",
              "    </tr>\n",
              "    <tr>\n",
              "      <th>4670</th>\n",
              "      <td>4670</td>\n",
              "      <td>down to eur m h august finnish media group ilk...</td>\n",
              "      <td>1</td>\n",
              "    </tr>\n",
              "    <tr>\n",
              "      <th>7257</th>\n",
              "      <td>7257</td>\n",
              "      <td>people are criticizing this and calling upon a...</td>\n",
              "      <td>0</td>\n",
              "    </tr>\n",
              "    <tr>\n",
              "      <th>6573</th>\n",
              "      <td>6573</td>\n",
              "      <td>aren you doing the same thing taking away redd...</td>\n",
              "      <td>0</td>\n",
              "    </tr>\n",
              "    <tr>\n",
              "      <th>954</th>\n",
              "      <td>954</td>\n",
              "      <td>however sales volumes in the food industry are...</td>\n",
              "      <td>1</td>\n",
              "    </tr>\n",
              "    <tr>\n",
              "      <th>7179</th>\n",
              "      <td>7179</td>\n",
              "      <td>hey recorded two episodes for podcast with fri...</td>\n",
              "      <td>0</td>\n",
              "    </tr>\n",
              "    <tr>\n",
              "      <th>3264</th>\n",
              "      <td>3264</td>\n",
              "      <td>the group said it intends to initiate within t...</td>\n",
              "      <td>1</td>\n",
              "    </tr>\n",
              "    <tr>\n",
              "      <th>6850</th>\n",
              "      <td>6850</td>\n",
              "      <td>think more impressed with the resolution the ...</td>\n",
              "      <td>0</td>\n",
              "    </tr>\n",
              "    <tr>\n",
              "      <th>9344</th>\n",
              "      <td>9344</td>\n",
              "      <td>girls thoughts amore fitness classes instructo...</td>\n",
              "      <td>0</td>\n",
              "    </tr>\n",
              "    <tr>\n",
              "      <th>5814</th>\n",
              "      <td>5814</td>\n",
              "      <td>for its messed implementation gst but they are...</td>\n",
              "      <td>0</td>\n",
              "    </tr>\n",
              "    <tr>\n",
              "      <th>2196</th>\n",
              "      <td>2196</td>\n",
              "      <td>teliasonera has secured deliveries for g modem...</td>\n",
              "      <td>1</td>\n",
              "    </tr>\n",
              "    <tr>\n",
              "      <th>9548</th>\n",
              "      <td>9548</td>\n",
              "      <td>genius level 50000</td>\n",
              "      <td>0</td>\n",
              "    </tr>\n",
              "    <tr>\n",
              "      <th>3268</th>\n",
              "      <td>3268</td>\n",
              "      <td>the huge bridge girders will be delivered to t...</td>\n",
              "      <td>1</td>\n",
              "    </tr>\n",
              "    <tr>\n",
              "      <th>6763</th>\n",
              "      <td>6763</td>\n",
              "      <td>after bullying half dead sri lankan bowlers sm...</td>\n",
              "      <td>0</td>\n",
              "    </tr>\n",
              "    <tr>\n",
              "      <th>5155</th>\n",
              "      <td>5155</td>\n",
              "      <td>peaceful watching ndtv election coverage fuck...</td>\n",
              "      <td>0</td>\n",
              "    </tr>\n",
              "    <tr>\n",
              "      <th>2710</th>\n",
              "      <td>2710</td>\n",
              "      <td>bawag is to issue a benchmark covered deal</td>\n",
              "      <td>1</td>\n",
              "    </tr>\n",
              "    <tr>\n",
              "      <th>4143</th>\n",
              "      <td>4143</td>\n",
              "      <td>trading code eli v number of shares priceshare...</td>\n",
              "      <td>1</td>\n",
              "    </tr>\n",
              "  </tbody>\n",
              "</table>\n",
              "</div>"
            ],
            "text/plain": [
              "      Unnamed: 0                                               text  finance\n",
              "4371        4371  border guard service has banned the mooring of...        1\n",
              "5936        5936  they have always been bjp supporters tharoor r...        0\n",
              "460          460  to be number one means creating added value fo...        1\n",
              "5474        5474   obvious that they won answer some questions l...        0\n",
              "2621        2621  the deal is subject to approval by the norwegi...        1\n",
              "9587        9587  modi finally talks about ambani adani and kejr...        0\n",
              "7609        7609  better then our australian space program which...        0\n",
              "8844        8844   regret using all vacation wait getting hit ca...        0\n",
              "264          264  press release october ruukki has signed a cont...        1\n",
              "3016        3016   adp news nov finnish paper packaging and fore...        1\n",
              "1335        1335  she will succeed krister kylas who has decided...        1\n",
              "2674        2674  the restructuring measures will not affect the...        1\n",
              "2769        2769  additionally the company will use the solution...        1\n",
              "4585        4585  operating profit for the threemonth period dec...        1\n",
              "4670        4670  down to eur m h august finnish media group ilk...        1\n",
              "7257        7257  people are criticizing this and calling upon a...        0\n",
              "6573        6573  aren you doing the same thing taking away redd...        0\n",
              "954          954  however sales volumes in the food industry are...        1\n",
              "7179        7179  hey recorded two episodes for podcast with fri...        0\n",
              "3264        3264  the group said it intends to initiate within t...        1\n",
              "6850        6850   think more impressed with the resolution the ...        0\n",
              "9344        9344  girls thoughts amore fitness classes instructo...        0\n",
              "5814        5814  for its messed implementation gst but they are...        0\n",
              "2196        2196  teliasonera has secured deliveries for g modem...        1\n",
              "9548        9548                                 genius level 50000        0\n",
              "3268        3268  the huge bridge girders will be delivered to t...        1\n",
              "6763        6763  after bullying half dead sri lankan bowlers sm...        0\n",
              "5155        5155   peaceful watching ndtv election coverage fuck...        0\n",
              "2710        2710        bawag is to issue a benchmark covered deal         1\n",
              "4143        4143  trading code eli v number of shares priceshare...        1"
            ]
          },
          "metadata": {
            "tags": []
          },
          "execution_count": 54
        }
      ]
    }
  ]
}